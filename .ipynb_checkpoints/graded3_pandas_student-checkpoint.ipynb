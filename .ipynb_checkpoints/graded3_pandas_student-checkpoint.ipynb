{
 "cells": [
  {
   "cell_type": "markdown",
   "id": "174e376c",
   "metadata": {
    "id": "174e376c"
   },
   "source": [
    "# Zomato Exercise"
   ]
  },
  {
   "cell_type": "markdown",
   "id": "2d84fdf3",
   "metadata": {
    "id": "2d84fdf3"
   },
   "source": [
    "Zomato is a restaurant aggregator website. The platform provides information, menus and user-reviews of restaurants as well as food delivery options from partner restaurants in select cities. You have been provided 3 datasets:\n",
    "\n",
    "- zomato.csv contains restaurant information like average_cost_for_two, cuisines\n",
    "- location.csv contains location of the restaurants like address, city, locality & etc\n",
    "- ratings.csv contains aggregate rating for each restaurant\n",
    "\n",
    "The different files are connected using the `id` columns which can be found in the different files. The id column is a unique identifier to represent a restaurant. You can use this to **merge** the different files."
   ]
  },
  {
   "cell_type": "code",
   "execution_count": 1,
   "id": "5337de5f",
   "metadata": {
    "id": "5337de5f"
   },
   "outputs": [],
   "source": [
    "import pandas as pd\n",
    "import numpy as np"
   ]
  },
  {
   "cell_type": "markdown",
   "id": "77605fbc",
   "metadata": {
    "id": "77605fbc"
   },
   "source": [
    "1. Merge the zomato, location & ratings file into a signle dataframe and store it to the `merged_df` variable **(3pts)**"
   ]
  },
  {
   "cell_type": "code",
   "execution_count": 12,
   "id": "ddbd0bb1",
   "metadata": {
    "id": "ddbd0bb1"
   },
   "outputs": [],
   "source": [
    "zomato_df = pd.read_csv('zomato/zomato/zomato.csv')\n",
    "location_df = pd.read_csv('zomato/zomato/location.csv')\n",
    "ratings_df = pd.read_csv('zomato/zomato/ratings.csv')\n",
    "\n",
    "common_column = 'id'\n",
    "\n",
    "merged_df = pd.merge(zomato_df, location_df, on=common_column, how='inner')\n",
    "merged_df = pd.merge(merged_df, ratings_df, on=common_column, how='inner')"
   ]
  },
  {
   "cell_type": "code",
   "execution_count": 13,
   "id": "b2a86a44",
   "metadata": {
    "id": "b2a86a44"
   },
   "outputs": [
    {
     "data": {
      "text/html": [
       "<div>\n",
       "<style scoped>\n",
       "    .dataframe tbody tr th:only-of-type {\n",
       "        vertical-align: middle;\n",
       "    }\n",
       "\n",
       "    .dataframe tbody tr th {\n",
       "        vertical-align: top;\n",
       "    }\n",
       "\n",
       "    .dataframe thead th {\n",
       "        text-align: right;\n",
       "    }\n",
       "</style>\n",
       "<table border=\"1\" class=\"dataframe\">\n",
       "  <thead>\n",
       "    <tr style=\"text-align: right;\">\n",
       "      <th></th>\n",
       "      <th>id</th>\n",
       "      <th>average_cost_for_two</th>\n",
       "      <th>book_url</th>\n",
       "      <th>cuisines</th>\n",
       "      <th>currency</th>\n",
       "      <th>deeplink</th>\n",
       "      <th>events_url</th>\n",
       "      <th>featured_image</th>\n",
       "      <th>has_online_delivery</th>\n",
       "      <th>has_table_booking</th>\n",
       "      <th>...</th>\n",
       "      <th>country_id</th>\n",
       "      <th>latitude</th>\n",
       "      <th>locality</th>\n",
       "      <th>locality_verbose</th>\n",
       "      <th>longitude</th>\n",
       "      <th>zipcode</th>\n",
       "      <th>aggregate_rating</th>\n",
       "      <th>rating_color</th>\n",
       "      <th>rating_text</th>\n",
       "      <th>votes</th>\n",
       "    </tr>\n",
       "  </thead>\n",
       "  <tbody>\n",
       "    <tr>\n",
       "      <th>0</th>\n",
       "      <td>6316125</td>\n",
       "      <td>1000</td>\n",
       "      <td>NaN</td>\n",
       "      <td>Japanese, Ramen</td>\n",
       "      <td>P</td>\n",
       "      <td>zomato://restaurant/6316125</td>\n",
       "      <td>https://www.zomato.com/manila/mendokoro-ramenb...</td>\n",
       "      <td>https://b.zmtcdn.com/data/reviews_photos/971/2...</td>\n",
       "      <td>0</td>\n",
       "      <td>0</td>\n",
       "      <td>...</td>\n",
       "      <td>162</td>\n",
       "      <td>14.560313</td>\n",
       "      <td>Salcedo Village</td>\n",
       "      <td>Salcedo Village, Makati City</td>\n",
       "      <td>121.024638</td>\n",
       "      <td>NaN</td>\n",
       "      <td>4.9</td>\n",
       "      <td>3F7E00</td>\n",
       "      <td>Excellent</td>\n",
       "      <td>1394</td>\n",
       "    </tr>\n",
       "    <tr>\n",
       "      <th>1</th>\n",
       "      <td>18409457</td>\n",
       "      <td>1300</td>\n",
       "      <td>NaN</td>\n",
       "      <td>Korean, Grill, Korean BBQ</td>\n",
       "      <td>P</td>\n",
       "      <td>zomato://restaurant/18409457</td>\n",
       "      <td>https://www.zomato.com/manila/soban-k-town-gri...</td>\n",
       "      <td>https://b.zmtcdn.com/data/res_imagery/18290970...</td>\n",
       "      <td>0</td>\n",
       "      <td>0</td>\n",
       "      <td>...</td>\n",
       "      <td>162</td>\n",
       "      <td>14.552137</td>\n",
       "      <td>Greenbelt 3, San Lorenzo, Makati City</td>\n",
       "      <td>Greenbelt 3, San Lorenzo, Makati City, Makati ...</td>\n",
       "      <td>121.021325</td>\n",
       "      <td>NaN</td>\n",
       "      <td>4.6</td>\n",
       "      <td>3F7E00</td>\n",
       "      <td>Excellent</td>\n",
       "      <td>602</td>\n",
       "    </tr>\n",
       "    <tr>\n",
       "      <th>2</th>\n",
       "      <td>6307689</td>\n",
       "      <td>1600</td>\n",
       "      <td>NaN</td>\n",
       "      <td>American, Filipino</td>\n",
       "      <td>P</td>\n",
       "      <td>zomato://restaurant/6307689</td>\n",
       "      <td>https://www.zomato.com/manila/filling-station-...</td>\n",
       "      <td>https://b.zmtcdn.com/data/pictures/9/6307689/b...</td>\n",
       "      <td>0</td>\n",
       "      <td>0</td>\n",
       "      <td>...</td>\n",
       "      <td>162</td>\n",
       "      <td>14.563144</td>\n",
       "      <td>Poblacion</td>\n",
       "      <td>Poblacion, Makati City</td>\n",
       "      <td>121.029800</td>\n",
       "      <td>1210.0</td>\n",
       "      <td>4.0</td>\n",
       "      <td>5BA829</td>\n",
       "      <td>Very Good</td>\n",
       "      <td>563</td>\n",
       "    </tr>\n",
       "    <tr>\n",
       "      <th>3</th>\n",
       "      <td>18581637</td>\n",
       "      <td>1000</td>\n",
       "      <td>NaN</td>\n",
       "      <td>Korean</td>\n",
       "      <td>P</td>\n",
       "      <td>zomato://restaurant/18581637</td>\n",
       "      <td>https://www.zomato.com/manila/romantic-baboy-t...</td>\n",
       "      <td>https://b.zmtcdn.com/data/reviews_photos/cc1/a...</td>\n",
       "      <td>0</td>\n",
       "      <td>0</td>\n",
       "      <td>...</td>\n",
       "      <td>162</td>\n",
       "      <td>14.633713</td>\n",
       "      <td>Tomas Morato</td>\n",
       "      <td>Tomas Morato, Quezon City</td>\n",
       "      <td>121.035026</td>\n",
       "      <td>NaN</td>\n",
       "      <td>4.0</td>\n",
       "      <td>5BA829</td>\n",
       "      <td>Very Good</td>\n",
       "      <td>413</td>\n",
       "    </tr>\n",
       "    <tr>\n",
       "      <th>4</th>\n",
       "      <td>6315438</td>\n",
       "      <td>3000</td>\n",
       "      <td>NaN</td>\n",
       "      <td>Seafood, American, Mediterranean, Japanese</td>\n",
       "      <td>P</td>\n",
       "      <td>zomato://restaurant/6315438</td>\n",
       "      <td>https://www.zomato.com/manila/niu-by-vikings-b...</td>\n",
       "      <td>https://b.zmtcdn.com/data/pictures/chains/8/63...</td>\n",
       "      <td>0</td>\n",
       "      <td>0</td>\n",
       "      <td>...</td>\n",
       "      <td>162</td>\n",
       "      <td>14.546236</td>\n",
       "      <td>SM Aura Premier, Bonifacio Global City, Taguig...</td>\n",
       "      <td>SM Aura Premier, Bonifacio Global City, Taguig...</td>\n",
       "      <td>121.054365</td>\n",
       "      <td>NaN</td>\n",
       "      <td>4.6</td>\n",
       "      <td>3F7E00</td>\n",
       "      <td>Excellent</td>\n",
       "      <td>960</td>\n",
       "    </tr>\n",
       "  </tbody>\n",
       "</table>\n",
       "<p>5 rows × 35 columns</p>\n",
       "</div>"
      ],
      "text/plain": [
       "         id  average_cost_for_two book_url  \\\n",
       "0   6316125                  1000      NaN   \n",
       "1  18409457                  1300      NaN   \n",
       "2   6307689                  1600      NaN   \n",
       "3  18581637                  1000      NaN   \n",
       "4   6315438                  3000      NaN   \n",
       "\n",
       "                                     cuisines currency  \\\n",
       "0                             Japanese, Ramen        P   \n",
       "1                   Korean, Grill, Korean BBQ        P   \n",
       "2                          American, Filipino        P   \n",
       "3                                      Korean        P   \n",
       "4  Seafood, American, Mediterranean, Japanese        P   \n",
       "\n",
       "                       deeplink  \\\n",
       "0   zomato://restaurant/6316125   \n",
       "1  zomato://restaurant/18409457   \n",
       "2   zomato://restaurant/6307689   \n",
       "3  zomato://restaurant/18581637   \n",
       "4   zomato://restaurant/6315438   \n",
       "\n",
       "                                          events_url  \\\n",
       "0  https://www.zomato.com/manila/mendokoro-ramenb...   \n",
       "1  https://www.zomato.com/manila/soban-k-town-gri...   \n",
       "2  https://www.zomato.com/manila/filling-station-...   \n",
       "3  https://www.zomato.com/manila/romantic-baboy-t...   \n",
       "4  https://www.zomato.com/manila/niu-by-vikings-b...   \n",
       "\n",
       "                                      featured_image  has_online_delivery  \\\n",
       "0  https://b.zmtcdn.com/data/reviews_photos/971/2...                    0   \n",
       "1  https://b.zmtcdn.com/data/res_imagery/18290970...                    0   \n",
       "2  https://b.zmtcdn.com/data/pictures/9/6307689/b...                    0   \n",
       "3  https://b.zmtcdn.com/data/reviews_photos/cc1/a...                    0   \n",
       "4  https://b.zmtcdn.com/data/pictures/chains/8/63...                    0   \n",
       "\n",
       "   has_table_booking  ...  country_id   latitude  \\\n",
       "0                  0  ...         162  14.560313   \n",
       "1                  0  ...         162  14.552137   \n",
       "2                  0  ...         162  14.563144   \n",
       "3                  0  ...         162  14.633713   \n",
       "4                  0  ...         162  14.546236   \n",
       "\n",
       "                                            locality  \\\n",
       "0                                    Salcedo Village   \n",
       "1              Greenbelt 3, San Lorenzo, Makati City   \n",
       "2                                          Poblacion   \n",
       "3                                       Tomas Morato   \n",
       "4  SM Aura Premier, Bonifacio Global City, Taguig...   \n",
       "\n",
       "                                    locality_verbose   longitude zipcode  \\\n",
       "0                       Salcedo Village, Makati City  121.024638     NaN   \n",
       "1  Greenbelt 3, San Lorenzo, Makati City, Makati ...  121.021325     NaN   \n",
       "2                             Poblacion, Makati City  121.029800  1210.0   \n",
       "3                          Tomas Morato, Quezon City  121.035026     NaN   \n",
       "4  SM Aura Premier, Bonifacio Global City, Taguig...  121.054365     NaN   \n",
       "\n",
       "  aggregate_rating rating_color rating_text  votes  \n",
       "0              4.9       3F7E00   Excellent   1394  \n",
       "1              4.6       3F7E00   Excellent    602  \n",
       "2              4.0       5BA829   Very Good    563  \n",
       "3              4.0       5BA829   Very Good    413  \n",
       "4              4.6       3F7E00   Excellent    960  \n",
       "\n",
       "[5 rows x 35 columns]"
      ]
     },
     "execution_count": 13,
     "metadata": {},
     "output_type": "execute_result"
    }
   ],
   "source": [
    "assert (6830, 35)==merged_df.shape\n",
    "\n",
    "cols = ['id', 'address', 'city', 'city_id', 'country_id', 'latitude',\n",
    "       'locality', 'locality_verbose', 'longitude', 'zipcode',\n",
    "       'aggregate_rating', 'rating_color', 'rating_text', 'votes',\n",
    "       'average_cost_for_two', 'book_url', 'cuisines', 'currency', 'deeplink',\n",
    "       'events_url', 'featured_image', 'has_online_delivery',\n",
    "       'has_table_booking', 'include_bogo_offers', 'is_book_form_web_view',\n",
    "       'is_delivering_now', 'is_table_reservation_supported',\n",
    "       'is_zomato_book_res', 'menu_url', 'mezzo_provider', 'name',\n",
    "       'photos_url', 'price_range', 'thumb', 'url']\n",
    "\n",
    "assert sorted(merged_df.columns) == sorted(cols)\n",
    "\n",
    "merged_df.head()"
   ]
  },
  {
   "cell_type": "markdown",
   "id": "02223abe",
   "metadata": {
    "id": "02223abe"
   },
   "source": [
    "2. Create a function that returns the average aggregate rating for each city. Expected returned value is a Series datatype which contains name of city as index and average aggregate rating as value. **(2pts)**"
   ]
  },
  {
   "cell_type": "code",
   "execution_count": 14,
   "id": "bd7d8f34",
   "metadata": {
    "id": "bd7d8f34"
   },
   "outputs": [],
   "source": [
    "def exercise_2(merged_df):\n",
    "    # Group by 'city' and calculate the mean of 'aggregate_rating'\n",
    "    avg_rating_per_city = merged_df.groupby('city')['aggregate_rating'].mean()\n",
    "    \n",
    "    # Return the result as a Pandas Series\n",
    "    return avg_rating_per_city"
   ]
  },
  {
   "cell_type": "code",
   "execution_count": 15,
   "id": "10e5b4c1",
   "metadata": {
    "id": "10e5b4c1"
   },
   "outputs": [
    {
     "data": {
      "text/plain": [
       "city\n",
       "Caloocan City       1.953509\n",
       "Las Piñas City      2.855738\n",
       "Makati City         3.250512\n",
       "Malabon City        1.558333\n",
       "Mandaluyong City    2.951919\n",
       "Name: aggregate_rating, dtype: float64"
      ]
     },
     "execution_count": 15,
     "metadata": {},
     "output_type": "execute_result"
    }
   ],
   "source": [
    "res_series = exercise_2(merged_df)\n",
    "assert True == np.isclose(3.302075, res_series[res_series.index == 'Pasay City'],\n",
    "                          rtol=1e-05, atol=1e-08, equal_nan=False)[0]\n",
    "assert True == np.isclose(1.890741, res_series[res_series.index == 'Valenzuela City'],\n",
    "                          rtol=1e-05, atol=1e-08, equal_nan=False)[0]\n",
    "assert True == np.isclose(1.558333, res_series[res_series.index == 'Malabon City'],\n",
    "                          rtol=1e-05, atol=1e-08, equal_nan=False)[0]\n",
    "\n",
    "res_series.head()"
   ]
  },
  {
   "cell_type": "markdown",
   "id": "5db591ac",
   "metadata": {
    "id": "5db591ac"
   },
   "source": [
    "3. Using the apply function of pandas convert the rating_text to a numeric equivalent. You are to introduce a new column in merged_df called `rating_numeric` which is based on the value from rating_text: **(3pts)**\n",
    "\n",
    "Excellent = 5 <br>\n",
    "Very Good = 4 <br>\n",
    "Good = 3 <br>\n",
    "Average = 2 <br>\n",
    "Poor = 1 <br>\n",
    "Not rated = 0 <br>"
   ]
  },
  {
   "cell_type": "code",
   "execution_count": 23,
   "id": "41293771",
   "metadata": {
    "id": "41293771"
   },
   "outputs": [],
   "source": [
    "def rate_equivalent(rating_text):\n",
    "    rating_map = {\n",
    "        'Excellent': 5,\n",
    "        'Very Good': 4,\n",
    "        'Good': 3,\n",
    "        'Average': 2,\n",
    "        'Poor': 1,\n",
    "        'Not rated': 0\n",
    "    }\n",
    "    return rating_map.get(rating_text, 0) \n",
    "\n",
    "merged_df['rating_numeric'] = merged_df['rating_text'].apply(rate_equivalent)"
   ]
  },
  {
   "cell_type": "code",
   "execution_count": 24,
   "id": "c62df922",
   "metadata": {
    "id": "c62df922"
   },
   "outputs": [
    {
     "data": {
      "text/html": [
       "<div>\n",
       "<style scoped>\n",
       "    .dataframe tbody tr th:only-of-type {\n",
       "        vertical-align: middle;\n",
       "    }\n",
       "\n",
       "    .dataframe tbody tr th {\n",
       "        vertical-align: top;\n",
       "    }\n",
       "\n",
       "    .dataframe thead th {\n",
       "        text-align: right;\n",
       "    }\n",
       "</style>\n",
       "<table border=\"1\" class=\"dataframe\">\n",
       "  <thead>\n",
       "    <tr style=\"text-align: right;\">\n",
       "      <th></th>\n",
       "      <th>rating_text</th>\n",
       "      <th>rating_numeric</th>\n",
       "    </tr>\n",
       "  </thead>\n",
       "  <tbody>\n",
       "    <tr>\n",
       "      <th>0</th>\n",
       "      <td>Excellent</td>\n",
       "      <td>5</td>\n",
       "    </tr>\n",
       "    <tr>\n",
       "      <th>1</th>\n",
       "      <td>Excellent</td>\n",
       "      <td>5</td>\n",
       "    </tr>\n",
       "    <tr>\n",
       "      <th>2</th>\n",
       "      <td>Very Good</td>\n",
       "      <td>4</td>\n",
       "    </tr>\n",
       "    <tr>\n",
       "      <th>3</th>\n",
       "      <td>Very Good</td>\n",
       "      <td>4</td>\n",
       "    </tr>\n",
       "    <tr>\n",
       "      <th>4</th>\n",
       "      <td>Excellent</td>\n",
       "      <td>5</td>\n",
       "    </tr>\n",
       "  </tbody>\n",
       "</table>\n",
       "</div>"
      ],
      "text/plain": [
       "  rating_text  rating_numeric\n",
       "0   Excellent               5\n",
       "1   Excellent               5\n",
       "2   Very Good               4\n",
       "3   Very Good               4\n",
       "4   Excellent               5"
      ]
     },
     "execution_count": 24,
     "metadata": {},
     "output_type": "execute_result"
    }
   ],
   "source": [
    "assert 868 == merged_df[merged_df.rating_numeric == 0].shape[0]\n",
    "assert True == ('rating_numeric' in merged_df.columns)\n",
    "\n",
    "merged_df[['rating_text', 'rating_numeric']].head()"
   ]
  },
  {
   "cell_type": "markdown",
   "id": "97ec4197",
   "metadata": {
    "id": "97ec4197"
   },
   "source": [
    "4. Create a function which filters the merged dataframe to only contain rows coming in from a specific city. Expected returned value is a dataframe **(2pts)**"
   ]
  },
  {
   "cell_type": "code",
   "execution_count": 32,
   "id": "9773b18e",
   "metadata": {
    "id": "9773b18e"
   },
   "outputs": [],
   "source": [
    "def exercise_4(merged_df, city):\n",
    "    filtered_df = merged_df[merged_df['city'] == city]\n",
    "    \n",
    "    return filtered_df"
   ]
  },
  {
   "cell_type": "code",
   "execution_count": 35,
   "id": "1ca29a81",
   "metadata": {
    "id": "1ca29a81"
   },
   "outputs": [],
   "source": [
    "\n",
    "assert 'Makati City' == exercise_4(merged_df, 'Makati City').city.unique()[0]\n",
    "assert (976, 36) == exercise_4(merged_df, 'Makati City').shape\n",
    "\n",
    "assert 'Mandaluyong City' == exercise_4(merged_df, 'Mandaluyong City').city.unique()[0]\n",
    "assert (443, 36) == exercise_4(merged_df, 'Mandaluyong City').shape\n",
    "\n",
    "assert (0, 36) == exercise_4(merged_df, 'Quezon  City').shape"
   ]
  },
  {
   "cell_type": "markdown",
   "id": "ca7bf3c1",
   "metadata": {
    "id": "ca7bf3c1"
   },
   "source": [
    "5. Create a function to filter the dataframe to only contain certain columns passed in the function. Expected returned value is a dataframe **(1pt)**"
   ]
  },
  {
   "cell_type": "code",
   "execution_count": 36,
   "id": "59787577",
   "metadata": {
    "id": "59787577"
   },
   "outputs": [],
   "source": [
    "def exercise_5(merged_df, cols_to_filter):\n",
    "    filtered_df = merged_df[cols_to_filter]\n",
    "    \n",
    "    return filtered_df"
   ]
  },
  {
   "cell_type": "code",
   "execution_count": 39,
   "id": "da27c054",
   "metadata": {
    "id": "da27c054"
   },
   "outputs": [],
   "source": [
    "cols = ['name', 'cuisines', 'city', 'aggregate_rating']\n",
    "assert sorted(cols) == sorted(exercise_5(merged_df, cols).columns)\n",
    "assert (6830, 4) == exercise_5(merged_df, cols).shape\n",
    "\n",
    "cols = ['average_cost_for_two', 'book_url', 'cuisines', 'currency', 'deeplink',\n",
    "       'events_url', 'featured_image', 'has_online_delivery',\n",
    "       'has_table_booking', 'include_bogo_offers', 'is_book_form_web_view']\n",
    "assert sorted(cols) == sorted(exercise_5(merged_df, cols).columns)\n",
    "assert (6830, 11) == exercise_5(merged_df, cols).shape"
   ]
  },
  {
   "cell_type": "markdown",
   "id": "d69c7e2e",
   "metadata": {
    "id": "d69c7e2e"
   },
   "source": [
    "6.  What is the most common restaurant name in the dataset? **(2pts)** Write down your answer and show code used to come up with the answer."
   ]
  },
  {
   "cell_type": "code",
   "execution_count": 40,
   "id": "cf9cdab1",
   "metadata": {
    "id": "cf9cdab1"
   },
   "outputs": [
    {
     "name": "stdout",
     "output_type": "stream",
     "text": [
      "The most common restaurant name is: Starbucks\n"
     ]
    }
   ],
   "source": [
    "most_common_restaurant = merged_df['name'].value_counts().idxmax()\n",
    "\n",
    "print(f\"The most common restaurant name is {most_common_restaurant}\")"
   ]
  },
  {
   "cell_type": "markdown",
   "id": "7675b4b1",
   "metadata": {
    "id": "7675b4b1"
   },
   "source": [
    "7. Which restaurant has the most expensive average cost for two? **(2pts)** Write down your answer and show code used to come up with the answer."
   ]
  },
  {
   "cell_type": "code",
   "execution_count": 44,
   "id": "b447b440",
   "metadata": {
    "id": "b447b440"
   },
   "outputs": [
    {
     "name": "stdout",
     "output_type": "stream",
     "text": [
      "The most expensive restaurant is The Tasting Room with an average cost for two of 10000\n"
     ]
    }
   ],
   "source": [
    "most_expensive_restaurant = merged_df.loc[merged_df['average_cost_for_two'].idxmax()]\n",
    "\n",
    "restaurant_name = most_expensive_restaurant['name']\n",
    "max_cost = most_expensive_restaurant['average_cost_for_two']\n",
    "\n",
    "print(f\"The most expensive restaurant is {restaurant_name} with an average cost for two of {max_cost}\")"
   ]
  },
  {
   "cell_type": "markdown",
   "id": "af873fb7",
   "metadata": {
    "id": "af873fb7"
   },
   "source": [
    "8. How many restaurants do not have a zipcode? **(1pt)** Write down your answer and show code used to come up with the answer."
   ]
  },
  {
   "cell_type": "code",
   "execution_count": 46,
   "id": "43f1234a",
   "metadata": {
    "id": "43f1234a"
   },
   "outputs": [
    {
     "name": "stdout",
     "output_type": "stream",
     "text": [
      "The number of restaurants without a zipcode is 6713\n"
     ]
    }
   ],
   "source": [
    "restaurants_without_zipcode = merged_df['zipcode'].isna().sum()\n",
    "\n",
    "print(f\"The number of restaurants without a zipcode is {restaurants_without_zipcode}\")"
   ]
  },
  {
   "cell_type": "markdown",
   "id": "9347ac03",
   "metadata": {
    "id": "9347ac03"
   },
   "source": [
    "9. How many restaurants in the dataset allow online delivery? **(1pt)** Write down your answer and show code used to come up with the answer."
   ]
  },
  {
   "cell_type": "code",
   "execution_count": 47,
   "id": "24b62212",
   "metadata": {
    "id": "24b62212"
   },
   "outputs": [
    {
     "name": "stdout",
     "output_type": "stream",
     "text": [
      "The number of restaurants that allow online delivery is 0\n"
     ]
    }
   ],
   "source": [
    "restaurants_with_online_delivery = merged_df[merged_df['has_online_delivery'] == 1].shape[0]\n",
    "\n",
    "print(f\"The number of restaurants that allow online delivery is {restaurants_with_online_delivery}\")\n"
   ]
  },
  {
   "cell_type": "markdown",
   "id": "7f2c7aa3",
   "metadata": {
    "id": "7f2c7aa3"
   },
   "source": [
    "10. Which locatlity has more expensive food? Poblacion or Salcedo Village? **(3pts)** Write down your answer and show code used to come up with the answer.\n"
   ]
  },
  {
   "cell_type": "code",
   "execution_count": 51,
   "id": "8fb7ce16",
   "metadata": {
    "id": "8fb7ce16"
   },
   "outputs": [
    {
     "name": "stdout",
     "output_type": "stream",
     "text": [
      "locality\n",
      "Poblacion          898.214286\n",
      "Salcedo Village    989.102564\n",
      "Name: average_cost_for_two, dtype: float64\n",
      "The locality with more expensive food is: Salcedo Village\n"
     ]
    }
   ],
   "source": [
    "locality_comparison = merged_df[merged_df['locality'].isin(['Poblacion', 'Salcedo Village'])]\n",
    "\n",
    "\n",
    "average_localityCost = locality_comparison.groupby('locality')['average_cost_for_two'].mean()\n",
    "\n",
    "print(average_localityCost)\n",
    "\n",
    "result = average_localityCost.idxmax()\n",
    "print(f\"The locality with more expensive food is: {result}\")\n"
   ]
  }
 ],
 "metadata": {
  "colab": {
   "provenance": []
  },
  "kernelspec": {
   "display_name": "Python 3 (ipykernel)",
   "language": "python",
   "name": "python3"
  },
  "language_info": {
   "codemirror_mode": {
    "name": "ipython",
    "version": 3
   },
   "file_extension": ".py",
   "mimetype": "text/x-python",
   "name": "python",
   "nbconvert_exporter": "python",
   "pygments_lexer": "ipython3",
   "version": "3.11.5"
  }
 },
 "nbformat": 4,
 "nbformat_minor": 5
}
